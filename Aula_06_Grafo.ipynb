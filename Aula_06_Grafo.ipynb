{
  "nbformat": 4,
  "nbformat_minor": 0,
  "metadata": {
    "colab": {
      "provenance": [],
      "authorship_tag": "ABX9TyMY+AOM+OUqJXAJwjMMpWgS",
      "include_colab_link": true
    },
    "kernelspec": {
      "name": "python3",
      "display_name": "Python 3"
    },
    "language_info": {
      "name": "python"
    }
  },
  "cells": [
    {
      "cell_type": "markdown",
      "metadata": {
        "id": "view-in-github",
        "colab_type": "text"
      },
      "source": [
        "<a href=\"https://colab.research.google.com/github/Shaffer443/EstruturaDeDados/blob/main/Aula_06_Grafo.ipynb\" target=\"_parent\"><img src=\"https://colab.research.google.com/assets/colab-badge.svg\" alt=\"Open In Colab\"/></a>"
      ]
    },
    {
      "cell_type": "markdown",
      "source": [
        "#Aula 06 - Grafo"
      ],
      "metadata": {
        "id": "RGdEY2jLVTYg"
      }
    },
    {
      "cell_type": "markdown",
      "source": [
        "**Grafo (G)**: Conjunto de vértices conectadas através de arestas sem uma distribuição fixa ou padronizada.\n",
        "\n",
        "  - Vértices(V): São so pontos de um grafo. Cada ponto poderá ser um ponto de encontro entre caminhos(rotas) de um grafo, por exemplo.\n",
        "\n",
        "  - Arestas (E): São as linhas de conexão entre vértices. Cada aresta conecta dois vértices\n",
        "\n",
        "  Exemplos: https://drive.google.com/file/d/1X1KZ_RqrtAUn6PZ7Y8yJ1I84UCbF69-N/view?usp=sharing\n",
        "\n",
        "_Grafo Completo_: Quando existe uma, e semente uma, aresta para cada par deistinto de vértices.\n",
        "\n",
        "_Grafo Trivial_: É um grado co unicamente um vértice.\n",
        "\n",
        "_Grau de Um Grafo_: É a quantidade de aresta que se incide no grafo. Exemplos:\n",
        "- https://drive.google.com/file/d/1Qzj-Jte7NnuNV5vocnDe67T57SvDejy0/view?usp=sharing  \n",
        "- https://drive.google.com/file/d/1f8vIjSvzyRbNaGDUfC3XTioPdrv-UxL5/view?usp=sharing\n",
        "- https://drive.google.com/file/d/1UVBaF9mytSYbs7N1kUw6sEbktxtFYYG8/view?usp=sharing\n",
        "\n",
        "\n"
      ],
      "metadata": {
        "id": "DkA321-EVYuc"
      }
    },
    {
      "cell_type": "markdown",
      "source": [
        "**Aplicações mais comuns para Grafo**\n",
        "\n",
        "- Encontrar rotas e melhores trajetos em mapas.\n",
        "- Escrever algoritmos de inteligência artificial que calculam o menor número de movimentos necessários para a vitória em uma partida de damas ou xadrez.\n",
        "- Mapear um jogo de tabuleiro para criar jogadas e movimentos.\n",
        "- Encontrar algo bastante próximo de você como o médico mais próximo conveniado ao seu plano de saúde.\n",
        "- Conexões e tabelas de roteamento em redes de computadores.\n",
        "- Mapeamento de interações em redes sociais."
      ],
      "metadata": {
        "id": "fyLhi3HUYzXQ"
      }
    },
    {
      "cell_type": "markdown",
      "source": [
        "**Matriz de Adjacências**: Matriz de dimensão V, onde V é o número de vértices. ODNe será smepre uma matriz quadrada.\n",
        "  - 0 - Caso _não_ tenha conexão com o vértice analisado.\n",
        "  - 1 - Caso tenha conexão com o vértice analisado. <br>\n",
        "\n",
        "Exemplo: https://drive.google.com/file/d/1FiuFF3q0dIimPQisT656CGusFYhaRslh/view?usp=sharing\n",
        "\n",
        "**Matriz de Adjacências com Grafo Ponderado**: Diferencia-se da matriz de adjacência apenas por trocar o \"1\", pelo peso da areasta.\n",
        "\n",
        "Exemplo: https://drive.google.com/file/d/1fRcGeqqlytn3S4uw5hHpLcyPPyXu5DiA/view?usp=sharing"
      ],
      "metadata": {
        "id": "PHljWctvaGKE"
      }
    },
    {
      "cell_type": "markdown",
      "source": [
        "**Lista de Adjacência**\n",
        "\n",
        "Exemplo: https://drive.google.com/file/d/1Wm5boWs9NMx49qBIQsmiVXeJw33OMrlm/view?usp=sharing\n",
        "\n",
        "**Lista de Adjacência com Grafo Dirigido**\n",
        "São grafos onde só há um sentido para ser percorrido.\n",
        "\n",
        "Exemplo: https://drive.google.com/file/d/1lxqMMmKQcXcRpWPslU_xOL8ni2AeeBCq/view?usp=sharing"
      ],
      "metadata": {
        "id": "0z22m3NbcIRu"
      }
    },
    {
      "cell_type": "markdown",
      "source": [
        "Em uma **matriz de adjacência**, sempre utilizaremos |V|**2 de espaço na memória, ou seja, se tivermos um grafo com 10 mil vértices, teriamos 100.000.000 butes de uso de memória. <br>\n",
        "\n",
        "Uma desvantagem dessa representação é o _excesso de uso de memória_, especialmente para grafos grandes. <br>\n",
        "\n",
        "Em termo de complexidade de tempo de execução, é O(1), **a matriz é mais rápida que a lista de adjavência** para grafos densos |E| = |V|**2, pois acessa qualquer dado com o mesmo tempo. Essa representação é mais simples de ser aplicada para grafos ponderados."
      ],
      "metadata": {
        "id": "fEDBg4CEdPnA"
      }
    },
    {
      "cell_type": "markdown",
      "source": [
        "Uma **lista de adjacência é mais rápida**, e empregada menos espaço de memória para grafos esparsos |E|=|V|.\n",
        "\n",
        "Em contrapartida, para grafos bastante densos,com muitas informações, são mais lentas do que a versão matricial, isso por que _grafos densos, tendem a formar grandes listas de vizinhos_, que, quando representadas por listas encadeadas geram um tempo de acesso ao dado bastante elevado."
      ],
      "metadata": {
        "id": "qHTUgc2NerfQ"
      }
    },
    {
      "cell_type": "markdown",
      "source": [
        "# Busca Em Profundidade"
      ],
      "metadata": {
        "id": "vTXdXAmf3hBl"
      }
    },
    {
      "cell_type": "markdown",
      "source": [
        "Conhecida como **Depth-First Search (DFS)**. Usamos para descobrir um grafo, ou fazer uma varreadura, _passando por todos os vértices uma única vez_.\n",
        "\n",
        "Objetivo é descobrir todo o grafo, ou, sair do ṕonto A ao ponto B, passando por um vértice cada vez, sem repetir vértice.\n",
        "\n",
        "Exemplos:\n",
        "\n",
        "- https://drive.google.com/file/d/1KirXWe5gm6GWqofu09wVEeIqqX22vp5y/view?usp=sharing\n",
        "\n",
        "- https://drive.google.com/file/d/1M-6bVFmbNP7beVY21V7UYSpZtzaqGPaC/view?usp=sharing\n",
        "\n",
        "- https://drive.google.com/file/d/1kXzoPqQFc62eWUW32B7yVVlUyrUtEGat/view?usp=sharing\n",
        "\n",
        "- https://drive.google.com/file/d/128fFjxyJ4JHL-JpWRA9NMXLsv58vMl7T/view?usp=sharing\n",
        "\n",
        "- https://drive.google.com/file/d/1TtuDUjacqees8_APdFUcHh-UhAxr9Lep/view?usp=sharing\n",
        "\n",
        "- https://drive.google.com/file/d/1ihWCSdSzd-knrbr7jlsRnMWrrx9tZWgQ/view?usp=sharing\n",
        "\n",
        "- https://drive.google.com/file/d/1J7P0tVbgq9VX7HOUfYcK_aWA0BbuLV5x/view?usp=sharing\n",
        "\n",
        "Caminho percorrido pela busca V0 -> V1 -> V2, volta apra o V0 -> v3. E assim é um ideia de descoberta de camnhos pelo gráfico."
      ],
      "metadata": {
        "id": "7MnM6V603nfg"
      }
    },
    {
      "cell_type": "markdown",
      "source": [
        "# Busca em Largura"
      ],
      "metadata": {
        "id": "hnDzrqOE8LT0"
      }
    },
    {
      "cell_type": "markdown",
      "source": [
        "A meneira que se anda no gráfico é um pouco diferente.\n",
        "\n",
        "conehcida com **Breath-First Search (BFS)**, onde usamos para descobrir um grafo, ou fazer uma varredura, _passando por todos os vértices uma única vez_.\n",
        "\n",
        "A busca em alrgura, ao inves de percorrer todo um caminho aleátorio, ela anda um poquinho em cada caminho possivel,para todos os lados ao mesmo tempo.\n",
        "\n",
        "Exemplo:\n",
        "- https://drive.google.com/file/d/1XCVjOTciMmz_Eah1pbK2yFQ038ZjO-ha/view?usp=sharing\n",
        "\n",
        "- https://drive.google.com/file/d/1MLJ65SAhJ5hq7ZhLZ4hs_ddwwTJx8PVh/view?usp=sharing\n",
        "\n",
        "- https://drive.google.com/file/d/18JW9lRu10S5fKlx4vik_MX4RfwZzmEGO/view?usp=sharing\n",
        "\n",
        "- https://drive.google.com/file/d/142EivmUCLHtoEY8ZeAXOcRdNrih5CY8x/view?usp=sharing\n",
        "\n",
        "- https://drive.google.com/file/d/1cTpga8zlQR5or94iyArpkiuqt4UQ5LTr/view?usp=sharing\n",
        "\n",
        "- https://drive.google.com/file/d/10u0gLBkTx_axrnzZ29rFdV1KmVN5oaBR/view?usp=sharing\n",
        "\n",
        "- https://drive.google.com/file/d/1VdtSz1UrhHZAlT4xe8HlYSH1ZqIs7z0U/view?usp=sharing\n",
        "\n",
        "- https://drive.google.com/file/d/1DXOr87jAeYJY2JyKlNZzudHyT-pKaeCf/view?usp=sharing\n",
        "\n"
      ],
      "metadata": {
        "id": "zO9AICGs8PMp"
      }
    },
    {
      "cell_type": "markdown",
      "source": [
        "Diferenças entre **DFS** e **BFS**:\n",
        "\n",
        "- DFS funciona com uma pilha\n",
        "- BFS funciona com uma fila\n",
        "- Compelxidade de ambas O(|V|+|E|)\n",
        "    - |V| - Total de Vértices\n",
        "    - |E| - Totald e arestas\n",
        "\n",
        "Busca em largura, na média vai se sair melhor."
      ],
      "metadata": {
        "id": "awB2ABjRASwv"
      }
    },
    {
      "cell_type": "markdown",
      "source": [
        "# Caminho Mínimo (Algoritmo de Dijkstra)"
      ],
      "metadata": {
        "id": "Fufshk8MBERk"
      }
    },
    {
      "cell_type": "markdown",
      "source": [
        "Localizar uma rota dentro do grafo. encontra a melhor rota/caminho entre dois vértices em um grafo ponderado.\n",
        "\n",
        "- Métrica Aditiva <br>\n",
        "    Menor rota, considerando o menor peso somado entre os caminhos. O caminho mais curto.\n",
        "\n",
        "Exemplo:\n",
        "\n",
        "- https://drive.google.com/file/d/11SzihKh55KAAb_iqNDcIgapxTVDWB_t-/view?usp=sharing\n",
        "\n",
        "- https://drive.google.com/file/d/119sSbMfj_6svGo2hjfuKLHf_ytN1opjU/view?usp=sharing\n",
        "\n",
        "- https://drive.google.com/file/d/1NicL9SeTUmriO45vtmYDORKeIWWnmLKz/view?usp=sharing\n",
        "\n",
        "- https://drive.google.com/file/d/1TZ18ogFoEP-D9oY92SrDKBoQirJa6uyO/view?usp=sharing\n",
        "\n",
        "- https://drive.google.com/file/d/1segzmF8ZDIBrhgNLImQzSSOM_lJsTOWV/view?usp=sharing\n",
        "\n",
        "- https://drive.google.com/file/d/1CZbw4v879B62XLvGPrW3To3ET9csLFz0/view?usp=sharing\n",
        "\n",
        "- https://drive.google.com/file/d/1Hnt4wI82ZHOjqu8Wo5gTpUsmcJjMf5cm/view?usp=sharing\n",
        "\n",
        "- https://drive.google.com/file/d/1CO5e5U4d37Yoq65JPuDohVrcDnbsycMJ/view?usp=sharing\n",
        "\n",
        "- https://drive.google.com/file/d/1aLVvNAfar_VuGq3nMF_e17p12vKYJAht/view?usp=sharing\n",
        "\n",
        "\n",
        "\n",
        "\n",
        "\n"
      ],
      "metadata": {
        "id": "y23ah2c-BJsX"
      }
    },
    {
      "cell_type": "markdown",
      "source": [
        "**Algoritmos de implementação de um grafo com Lista de Adjacências**\n"
      ],
      "metadata": {
        "id": "heJFBAtfQgbT"
      }
    },
    {
      "cell_type": "code",
      "execution_count": null,
      "metadata": {
        "id": "075ZQXfnVSji",
        "colab": {
          "base_uri": "https://localhost:8080/"
        },
        "outputId": "5eef33ee-e6ef-4f36-addd-9c65451fc834"
      },
      "outputs": [
        {
          "output_type": "stream",
          "name": "stdout",
          "text": [
            "Passando os vértices e seus respectivos vizinhos: CF\n",
            "A['B', 'D']\n",
            "B['A', 'C']\n",
            "C['B', 'D', 'E', 'F']\n",
            "D['A', 'C']\n",
            "E['C']\n",
            "F['C']\n"
          ]
        }
      ],
      "source": [
        "# Listad e Adjacência\n",
        "\n",
        "class Vertice:\n",
        "  def __init__(self, n):\n",
        "    self.nome = n\n",
        "    self.vizinhos = list() # Criando uma lista do python que é um array dinâmico\n",
        "\n",
        "  def addVizinho(self,v):\n",
        "    if v not in self.vizinhos:\n",
        "      #O método append() é um recurso em Python que permite adicionar um elemento ao final de uma lista existente.\n",
        "      #Essa função é extremamente útil quando você precisa expandir uma lista com mais itens dinamicamente,\n",
        "      #sem precisar criar uma nova lista a cada vez.\n",
        "      self.vizinhos.append(v)\n",
        "      #O método sort() permite que você organize uma lista em ordem ascendente ou descendente.\n",
        "      #Ele recebe argumentos somente nomeados: key e reverse . reverse determina se a lista é ordenada em ordem ascendente ou descendente.\n",
        "      #key é uma função que gera um valor intermediário para cada elemento.\n",
        "      self.vizinhos.sort()\n",
        "\n",
        "class Grafo:\n",
        "  vertices = {} # Dicionário vázio\n",
        "\n",
        "  def addVertice(self, vertice): #Método para adicionar um vértice\n",
        "    #Verifique se o objeto é de fato um objeto de vértice e se ele ainda não existe\n",
        "    if isinstance(vertice, Vertice) and vertice.nome not in self.vertices:\n",
        "      #adicione o vértice no dicionario\n",
        "      self.vertices[vertice.nome] = vertice\n",
        "      return True\n",
        "    else:\n",
        "      return False\n",
        "\n",
        "  def addAresta(self,u,v): # pega os dois dados envolvidos e coloca um na lista do outro\n",
        "    #Verifica se ambos os vertices de fato existe para criar uma aresta\n",
        "    if u in self.vertices and v in self.vertices:\n",
        "      for key, valor in self.vertices.items():\n",
        "        #adiciona um na lista de vizinhos do outro\n",
        "        if key == u:\n",
        "          valor.addVizinho(v)\n",
        "        if key == v:\n",
        "          valor.addVizinho(u)\n",
        "      return True\n",
        "    else:\n",
        "      return False\n",
        "\n",
        "  #Imprime a lista de adjacẽncia\n",
        "  def printGrafo(self):\n",
        "    for key in sorted(list(self.vertices.keys())):\n",
        "      #Sorted() classifica qualquer sequência (lista, tupla) e sempre retorna uma lista com os elementos de maneira classificada,\n",
        "      #sem modificar a sequência original.\n",
        "      #Sintaxe: classificado (iterável, chave, reverso)\n",
        "      print(key + str(self.vertices[key].vizinhos))\n",
        "      #return key\n",
        "\n",
        "\n",
        "# Mains:\n",
        "\n",
        "G = Grafo()\n",
        "\n",
        "for i in range(ord('A'), ord('G')): # ord de ordinal, colocando em ordem crescente alfabética\n",
        "  G.addVertice(Vertice(chr(i))) #Cria-se primeiro so vertices, para depois fazer as conexões entre arestas\n",
        "\n",
        "arestas = ['AB','AD','BC','CD','CE','CF'] # lista com as conexões (arestas)\n",
        "for a in arestas:\n",
        "  G.addAresta(a[:1], a[1:]) # Pegando o primeiro dado do indice 'N', e o segundo do do mesmo indice 'N'\n",
        "  # na lista do A o vizinho é B, e vice versa, pegando o 'AB'\n",
        "\n",
        "\n",
        "#print(f\"Passando os vértices e seus respectivos vizinhos: {a}\")\n",
        "\n",
        "G.printGrafo()"
      ]
    },
    {
      "cell_type": "markdown",
      "source": [
        "**Implementação de uma DFS**\n"
      ],
      "metadata": {
        "id": "R9UoBPgRxyOo"
      }
    },
    {
      "cell_type": "code",
      "source": [
        "\n",
        "#Implementação com Lista de Adjacência\n",
        "class Vertice:\n",
        "  def __init__(self, n):\n",
        "    self.nome = n\n",
        "    self.vizinhos = list()\n",
        "    self.ordemDescoberta = 0\n",
        "    self.visitado = 0\n",
        "\n",
        "  def addVizinho(self, v):\n",
        "    if v not in self.vizinhos:\n",
        "      self.vizinhos.append(v)\n",
        "      self.vizinhos.sort()\n",
        "\n",
        "class Grafo:\n",
        "  vertices = {}\n",
        "  ordem = 0\n",
        "\n",
        "  def addVertice(self,vertice):\n",
        "    #Verifique se o objeto é de fato um obejto de vértice e se ele ainda não existe\n",
        "    if isinstance(vertice, Vertice) and vertice.nome not in self.vertices: # Não deixa repetir a letra\n",
        "      #adiciona o vértice no dicionario\n",
        "      self.vertices[vertice.nome] = vertice\n",
        "      return True\n",
        "    else:\n",
        "      return False\n",
        "\n",
        "  def addAresta(self, u , v):\n",
        "    #verifica se ambos vertices de fato existe ara criar a aresta\n",
        "    if u in self.vertices and v in self.vertices:\n",
        "      for key, valor in self.vertices.items():\n",
        "        #adiciona um na lista de vizinhos do outro\n",
        "        if key == u:\n",
        "          valor.addVizinho(v)\n",
        "        if key == v:\n",
        "          valor.addVizinho(u)\n",
        "# Imprime adjacência\n",
        "  def printGrafo(self):\n",
        "    for key in sorted(list(self.vertices.keys())):\n",
        "      print(key + str(self.vertices[key].vizinhos) + '' + str(self.vertices[key].ordemDescoberta))\n",
        "\n",
        "  def _dfs(self, vertice): # Recursivamente chama essa funçãoe  fica visitando vértice por vértice\n",
        "    global ordem\n",
        "    vertice.visitado = 1\n",
        "    vertice.ordemDescoberta = ordem\n",
        "    ordem += 1\n",
        "    for v in vertice.vizinhos:\n",
        "      if self.vertices[v].visitado == 0:\n",
        "        self._dfs(self.vertices[v]) # Recursividade para adicionar o novo vertice\n",
        "\n",
        "  def dfs(self, vertice):\n",
        "    global ordem\n",
        "    ordem = 1\n",
        "    self._dfs(vertice)\n",
        "\n",
        "\n",
        "\n",
        "#Main\n",
        "\n",
        "G = Grafo()\n",
        "origem = Vertice('A') # já c´,eça inserindo o A\n",
        "G.addVertice(origem)\n",
        "\n",
        "for i in range(ord(\"A\"), ord('G')): # Não deixa repetir a letra\n",
        "  G.addVertice(Vertice(chr(i)))\n",
        "\n",
        "arestas = ['AB','AD','BC','CD','CE','CF'] # lista com as conexões (arestas)\n",
        "\n",
        "for a in arestas:\n",
        "  G.addAresta(a[:1], a[1:]) # Pegando o primeiro dado do indice 'N', e o segundo do do mesmo indice 'N'\n",
        "  # na lista do A o vizinho é B, e vice versa, pegando o 'AB'\n",
        "\n",
        "G.dfs(origem)\n",
        "G.printGrafo()\n"
      ],
      "metadata": {
        "colab": {
          "base_uri": "https://localhost:8080/"
        },
        "id": "z_8-c3gmx7v3",
        "outputId": "fb2c86b7-b73a-4229-c7f6-4134f06df3a3"
      },
      "execution_count": 19,
      "outputs": [
        {
          "output_type": "stream",
          "name": "stdout",
          "text": [
            "A['B', 'D']1\n",
            "B['A', 'C']2\n",
            "C['B', 'D', 'E', 'F']3\n",
            "D['A', 'C']4\n",
            "E['C']5\n",
            "F['C']6\n"
          ]
        }
      ]
    },
    {
      "cell_type": "markdown",
      "source": [
        "\n",
        "**Implementação do Algoritmo de Dijkstra**"
      ],
      "metadata": {
        "id": "wLHx9W8M8fsr"
      }
    },
    {
      "cell_type": "code",
      "source": [
        "# Implementação com lista de adjacência\n",
        "class Vertice:\n",
        "  def __init__(self,n):\n",
        "    self.nome = n\n",
        "    self.vizinhos = list()\n",
        "    self.pesos = list()\n",
        "\n",
        "  def addVizinho(self, v, peso):\n",
        "    if v not in self.vizinhos:\n",
        "      self.vizinhos.append(v)\n",
        "      self.vizinhos.sort()\n",
        "      self.pesos.append(peso)\n",
        "\n",
        "#grafos ponderados, contem o peso das arestas\n",
        "class Grafo:\n",
        "  vertices = {}\n",
        "  ordem = 0\n",
        "\n",
        "  def __init__(self):\n",
        "    self.totalVertices = 0\n",
        "\n",
        "  def addVertice(self,vertice):\n",
        "    #Verifique se o objeto é de fato um obejto de vértice e se ele ainda não existe\n",
        "    if isinstance(vertice, Vertice) and vertice.nome not in self.vertices: # Não deixa repetir a letra\n",
        "      #adiciona o vértice no dicionario\n",
        "      self.vertices[vertice.nome] = vertice\n",
        "      self.totalVertices += 1\n",
        "      return True\n",
        "    else:\n",
        "      return False\n",
        "\n",
        "  def addAresta(self, u , v, peso):\n",
        "    #verifica se ambos vertices de fato existe ara criar a aresta\n",
        "    if u in self.vertices and v in self.vertices:\n",
        "      for key, valor in self.vertices.items():\n",
        "        #adiciona um na lista de vizinhos do outro\n",
        "        if key == u:\n",
        "          valor.addVizinho(v, peso)\n",
        "        if key == v:\n",
        "          valor.addVizinho(u, peso)\n",
        "      return True\n",
        "    else:\n",
        "      return False\n",
        "\n",
        "  # Imprime adjacência\n",
        "  def printGrafo(self, origem):\n",
        "    for key in sorted(list(self.vertices.keys())):\n",
        "      print(key + str(self.vertices[key].vizinhos) + '' + str(self.vertices[key].pesos))\n",
        "\n",
        "  def Dijkstra(self, origem):\n",
        "    distancias = [float('inf') for i in range(0,self.totalVertices)] #float('inf') o python tratat como \"infinito\", um número bem grande\n",
        "    visitados = [0 for i in range(0, self.totalVertices)]\n",
        "    predecessor = [float('inf') for i in range(0, self.totalVertices)]\n",
        "    nodos = [v for v in self.vertices]\n",
        "    distancias[nodos.index(origem.nome)] = 0\n",
        "    predecessor[nodos.index(origem.nome)] = origem\n",
        "\n",
        "    for x in range(0, self.totalVertices):\n",
        "      #Pega o próximo vértice com menor distância\n",
        "      minDistancia = float('inf')\n",
        "      for v in range(0,self.totalVertices):\n",
        "        if(distancias[v] < minDistancia and visitados[v] == 0):\n",
        "          minDistancia = distancias[v]\n",
        "          idxProxVertice = v\n",
        "\n",
        "\n",
        "      #verifica o melhor caminho\n",
        "      visitados[idxProxVertice] = 1\n",
        "      nodoAtual = self.vertices[nodos[idxProxVertice]]\n",
        "      idx = 0\n",
        "      for vizinho in nodoAtual.vizinhos:\n",
        "        if(visitados[nodos.index(vizinho)] == 0):\n",
        "          if(minDistancia + nodoAtual.pesos[idx] < distancias[nodos.index(vizinho)]):\n",
        "            distancias[nodos.index(vizinho)] = minDistancia + nodoAtual.pesos[idx]\n",
        "            predecessor[nodos.index(vizinho)] = nodoAtual\n",
        "        idx += 1\n",
        "    #r = 1\n",
        "\n",
        "    #print dos caminhos, das informações\n",
        "    print('Vértices de Origem: {}'.format(origem.nome))\n",
        "    for i in range(1,self.totalVertices):\n",
        "      print('Distâncias para {} = {}'.format(nodos[i], distancias[i]))\n",
        "      print('Caminho: {}'.format(nodos[i]), end='')\n",
        "      j = i\n",
        "      atual = predecessor[j].nome\n",
        "      while (atual != origem.nome):\n",
        "        print('<- {}'.format(atual), end='')\n",
        "        atual = predecessor[nodos.index(atual)].nome\n",
        "      print('<-{}'.format(origem.nome))\n",
        "\n",
        "\n",
        "\n",
        "\n",
        "\n",
        "# Main\n",
        "\n",
        "G = Grafo()\n",
        "origem = Vertice('A') # já c´,eça inserindo o A\n",
        "G.addVertice(origem)\n",
        "\n",
        "for i in range(ord(\"A\"), ord('G')): # Não deixa repetir a letra\n",
        "  G.addVertice(Vertice(chr(i)))\n",
        "\n",
        "arestas = ['AB','AD','BC','CD','CE','CF'] # lista com as conexões (arestas)\n",
        "pesos = [10,3,4,1,2,2]\n",
        "i = 0\n",
        "\n",
        "for a in arestas:\n",
        "  G.addAresta(a[:1], a[1:], pesos[i]) # Pegando o primeiro dado do indice 'N', e o segundo do do mesmo indice 'N'\n",
        "  # na lista do A o vizinho é B, e vice versa, pegando o 'AB'\n",
        "  i += 1\n",
        "\n",
        "G.Dijkstra(origem)"
      ],
      "metadata": {
        "colab": {
          "base_uri": "https://localhost:8080/"
        },
        "id": "5tFpzOAu8_tY",
        "outputId": "57ccfb4d-47cd-428c-fd3d-b603b0c20d8d"
      },
      "execution_count": 26,
      "outputs": [
        {
          "output_type": "stream",
          "name": "stdout",
          "text": [
            "Vértices de Origem: A\n",
            "Distâncias para B = 8\n",
            "Caminho: B<- C<- D<-A\n",
            "Distâncias para C = 4\n",
            "Caminho: C<- D<-A\n",
            "Distâncias para D = 3\n",
            "Caminho: D<-A\n",
            "Distâncias para E = 6\n",
            "Caminho: E<- C<- D<-A\n",
            "Distâncias para F = 6\n",
            "Caminho: F<- C<- D<-A\n"
          ]
        }
      ]
    },
    {
      "cell_type": "markdown",
      "source": [
        "# Rascunhos"
      ],
      "metadata": {
        "id": "nTUDdbFYt0S7"
      }
    },
    {
      "cell_type": "code",
      "source": [
        "#Rascunho\n",
        "\n",
        "lista = [50,25,87,1,5,9,12,4]\n",
        "lista2 = [56,38,98,71,6,3,2,50]\n",
        "cars = ['Ford', 'BMW', 'Volvo']\n",
        "\n",
        "\n",
        "print(sorted(lista))\n",
        "\n",
        "cars.sort() #organiza a lista na memória\n",
        "print(cars)\n",
        "\n",
        "lista2.sort()\n",
        "print(lista2)\n",
        "\n",
        "\n",
        "\n",
        "print('\\nRetorno das Funções\\n')\n",
        "\n",
        "\n",
        "def myFunc(e):\n",
        "  return e['year']\n",
        "\n",
        "carros = [\n",
        "  {'car': 'Ford', 'year': 2005},\n",
        "  {'car': 'Mitsubishi', 'year': 2000},\n",
        "  {'car': 'BMW', 'year': 2019},\n",
        "  {'car': 'VW', 'year': 2011}\n",
        "]\n",
        "\n",
        "peloAno = carros.sort(key=myFunc) # Organizando pela chave (key) do 'Ano' com referencia\n",
        "print(peloAno)\n",
        "\n",
        "# Retornando pelo tamanho do valor:\n",
        "def myFunc2(v):\n",
        "  return len(v)\n",
        "\n",
        "cars3 = ['Ford', 'Mitsubishi', 'BMW', 'VW']\n",
        "\n",
        "peloTamanhoValor= cars3.sort(reverse=True, key=myFunc2)\n",
        "\n",
        "\n",
        "\n",
        "print(peloTamanhoValor)\n",
        "\n",
        "#print(listaChave.sort(key='a')) # precisa de uma chave (key)"
      ],
      "metadata": {
        "id": "nD41Oj6kV4KH"
      },
      "execution_count": null,
      "outputs": []
    },
    {
      "cell_type": "code",
      "source": [
        "dicionarioChave = {'numero':50,'numero':25,'numero':87,'numero':1,'numero':5,'numero':9,'numero':12,'numero':4}\n",
        "ListaComChave = [{'numero':50},{'numero':25},{'numero':87},{'numero':1},{'numero':5},{'numero':9},{'numero':12},{'numero':4}]\n",
        "\n",
        "def passando(n):\n",
        "  #for n in listaChave:\n",
        "    return n['numero']\n",
        "\n",
        "print(ListaComChave[0][\"numero\"])\n",
        "\n",
        "print(dicionarioChave.keys())\n",
        "\n",
        "print(dicionarioChave.values()) #valor do núemro de caracteres da chave 'numero' = 4\n",
        "\n",
        "print(dicionarioChave.items()) # chave, valor len da chave\n",
        "\n",
        "ListaComChave.sort(key=passando)\n",
        "print(ListaComChave)\n",
        "print(ListaComChave[0]['numero'])\n",
        "\n",
        "a = lambda x: x + 1\n",
        "print(ListaComChave[a(3)]['numero'])\n",
        "\n",
        "#pegando só os valores, em ordem crescente\n",
        "for valor in ListaComChave:\n",
        "  print(valor['numero'], end=' - ')\n",
        "\n",
        "#dicionarioChave.sort(reverse=True, key=passando)\n",
        "#for reverso in dicionarioChave['numero']:\n",
        "#  print(reverso)"
      ],
      "metadata": {
        "colab": {
          "base_uri": "https://localhost:8080/"
        },
        "id": "6qIL5tv4eYb6",
        "outputId": "ebe39d93-06e4-4e7e-daa5-57287096b393"
      },
      "execution_count": null,
      "outputs": [
        {
          "output_type": "stream",
          "name": "stdout",
          "text": [
            "50\n",
            "dict_keys(['numero'])\n",
            "dict_values([4])\n",
            "dict_items([('numero', 4)])\n",
            "[{'numero': 1}, {'numero': 4}, {'numero': 5}, {'numero': 9}, {'numero': 12}, {'numero': 25}, {'numero': 50}, {'numero': 87}]\n",
            "1\n",
            "12\n",
            "1 - 4 - 5 - 9 - 12 - 25 - 50 - 87 - "
          ]
        }
      ]
    },
    {
      "cell_type": "code",
      "source": [
        "a = lambda x: x + 1\n",
        "print(a(4))"
      ],
      "metadata": {
        "id": "u9A1SMyrspIE"
      },
      "execution_count": null,
      "outputs": []
    },
    {
      "cell_type": "code",
      "source": [
        "dicionarioChave = {'numero1': 50, 'numero2': 25, 'numero3': 87, 'numero4': 1, 'numero5': 5, 'numero6': 9, 'numero7': 12, 'numero8': 4}\n",
        "sorted_dict = dict(sorted(dicionarioChave.items(), key=lambda x: x[1], reverse=True))\n",
        "\n",
        "print(sorted_dict)\n"
      ],
      "metadata": {
        "colab": {
          "base_uri": "https://localhost:8080/"
        },
        "id": "w0vlYaXNoQ5S",
        "outputId": "3c86f439-b748-4358-8722-8e93be96836c"
      },
      "execution_count": 6,
      "outputs": [
        {
          "output_type": "stream",
          "name": "stdout",
          "text": [
            "{'numero3': 87, 'numero1': 50, 'numero2': 25, 'numero7': 12, 'numero6': 9, 'numero5': 5, 'numero8': 4, 'numero4': 1}\n"
          ]
        }
      ]
    },
    {
      "cell_type": "code",
      "source": [
        "class Pessoa:\n",
        "    def __init__(self, nome, idade):\n",
        "        self.nome = nome\n",
        "        self.idade = idade\n",
        "\n",
        "    def falar(self, mensagem):\n",
        "        print(f\"{self.nome} {s.sobrenome} com {self.idade} anos, diz: {mensagem}\")\n",
        "\n",
        "class Teste:\n",
        "    def __init__(info, sobrenome): #sefl não é obrigatório, testanto outro nome válido\n",
        "        info.sobrenome = sobrenome\n",
        "\n",
        "\n",
        "p = Pessoa(\"Rafael\", 39)\n",
        "s = Teste(\"Gouveia\")\n",
        "p.falar(\"Olá, tudo bem?\")\n"
      ],
      "metadata": {
        "colab": {
          "base_uri": "https://localhost:8080/"
        },
        "id": "lzN3rQFf2f8M",
        "outputId": "ef5dfb57-e83e-45b8-8dd2-ef35e260fc96"
      },
      "execution_count": 13,
      "outputs": [
        {
          "output_type": "stream",
          "name": "stdout",
          "text": [
            "Rafael Gouveia com 39 anos, diz: Olá, tudo bem?\n"
          ]
        }
      ]
    }
  ]
}
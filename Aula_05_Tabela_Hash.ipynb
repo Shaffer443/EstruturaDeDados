{
  "nbformat": 4,
  "nbformat_minor": 0,
  "metadata": {
    "colab": {
      "provenance": [],
      "authorship_tag": "ABX9TyMpGzwyJ00Wa6IplbBcpQ1t",
      "include_colab_link": true
    },
    "kernelspec": {
      "name": "python3",
      "display_name": "Python 3"
    },
    "language_info": {
      "name": "python"
    }
  },
  "cells": [
    {
      "cell_type": "markdown",
      "metadata": {
        "id": "view-in-github",
        "colab_type": "text"
      },
      "source": [
        "<a href=\"https://colab.research.google.com/github/Shaffer443/EstruturaDeDados/blob/main/Aula_05_Tabela_Hash.ipynb\" target=\"_parent\"><img src=\"https://colab.research.google.com/assets/colab-badge.svg\" alt=\"Open In Colab\"/></a>"
      ]
    },
    {
      "cell_type": "markdown",
      "source": [
        "#Aula 05 - Tabela Hash"
      ],
      "metadata": {
        "id": "Vf2M-QYcs8v3"
      }
    },
    {
      "cell_type": "markdown",
      "source": [
        "Tabelas **hash** são estruturas de dados que usufruem de caracterísicas de _arrays_, mas que melhoram e muito, o tempo de inserção e busca dos dados."
      ],
      "metadata": {
        "id": "Tg1cL3OztDqF"
      }
    },
    {
      "cell_type": "markdown",
      "source": [
        "**Busca Sequencial**: O(n) <br>\n",
        "**Busca binária**(ordenada e quebrando a busca ao meio): O-log(n)\n",
        "\n"
      ],
      "metadata": {
        "id": "HtfQSyhHuIkV"
      }
    },
    {
      "cell_type": "markdown",
      "source": [
        "O acesso instantâneo à informação faz com que não tenhamos dependência do tamanho do conjunto de dados. link: https://drive.google.com/file/d/1TtG7T-BzCnWJ1sJ1lqD-ZyxJIWQcQh8a/view?usp=sharing\n",
        "\n"
      ],
      "metadata": {
        "id": "zWHnc_DsvcHM"
      }
    },
    {
      "cell_type": "markdown",
      "source": [
        "Para \"povoa\" um array? Buscando a primeira posição livre, normlamente.<br>\n",
        "\n",
        "Porém, se pudermos calcular uma expressão matemática e/ou lógica que representa uma posição no array. É o qeu se chama-se de **mapeamento**.<br>\n",
        "\n",
        "Mapea uma string, que será um número onde localizamos o melhor local no array para este item, de forma não sequenciais.<b>\n",
        "\n",
        "As vantagens do emprego de uma função hash:<br><br>\n",
        "\n",
        "- Array (Que não é tão bom para buscas):<br>\n",
        "1 - Acesso ao dado na memória do array: O(1).<br>\n",
        "2 - Busca de um dado no array, depende do algoritmo de busca, epsquisa seuencial O(n) e pesquisa binária O-log(n)<br>\n",
        "\n",
        "- Tabela Hash:<br>\n",
        "1 - Acesso ao dado na **memória na tabala**: O(1), pois é implementada com um **array sequencial**.<br>\n",
        "2 - Busca de um dado na tabela hash: O(1), pois acessa o índice por meio de uma **função hash**.<br>\n",
        "\n",
        "**Resumo**: Melhora muito a bsuca porque tanto o acesso a memória, quando a busca do dado, _ambos são O(1)_.<br>\n",
        "\n",
        "Logo, deixamos de precisar fazer uma varredura no array e tornamos o _acesso ao dado independente do tamanho do conjunto de dados_.<br>\n",
        "\n",
        "exemplos de implementações em liguagens de programação:\n",
        "- Python, dicionário(dict)\n",
        "- Java, classe HashMap\n",
        "- C++, container associativo map\n",
        "\n",
        "Aplicações de hash:\n",
        "\n",
        "- Podemos manter um rastreamento de jogadas efetuadas por jogadores em jogos como xadrez, damas ou diversos outros jogos com alta quantidade de possibilidades.\n",
        "\n",
        "- Apĺicações voltadas para segurança, como criptografia e autenticação de mensagens e assinaturas digitais, empregam hash's.\n",
        "\n",
        "- Estrutura de dados-base que permite as populares criptomoedas, como bitcoin, operarem, são hashs. Ele trabalham com  cadeias de hashs altamente complexas para manipular transações, oferencendo segurança e descentralização das operações.\n",
        "\n",
        "\n",
        "\n",
        "\n",
        "\n"
      ],
      "metadata": {
        "id": "B90N1HvFwOvO"
      }
    },
    {
      "cell_type": "code",
      "execution_count": null,
      "metadata": {
        "colab": {
          "base_uri": "https://localhost:8080/"
        },
        "id": "NxZWNESps1B_",
        "outputId": "d55f27cd-02cf-46a7-f45b-12c19e8eae9b"
      },
      "outputs": [
        {
          "output_type": "stream",
          "name": "stdout",
          "text": [
            "{'kiwi': 3.12, 'abacaxi': 1.97, 'banana': 2.65, 'uva': 6.99}\n",
            "\n",
            "Valor da Banana é R$ 2.65\n",
            "\n",
            "1 - kiwi\n",
            "2 - abacaxi\n",
            "3 - banana\n",
            "4 - uva\n"
          ]
        }
      ],
      "source": [
        "#Relembando Dicionário (Chave = Valor):\n",
        "\n",
        "#Criando o dicionário\n",
        "caderno = dict()\n",
        "\n",
        "#atribui dados ao dicionário\n",
        "caderno['kiwi'] = 3.12\n",
        "caderno['abacaxi'] = 1.97\n",
        "caderno['banana'] = 2.65\n",
        "caderno['uva'] = 6.99\n",
        "\n",
        "#Imprime o dicionário mapeado: (Chave = Valor)\n",
        "print(caderno)\n",
        "\n",
        "#imprime um valor de um itém potnual que queremos\n",
        "print(f\"\\nValor da Banana é R$ {caderno['banana']}\\n\")\n",
        "\n",
        "#imprime todas as chaves\n",
        "n = 1\n",
        "for frutas in caderno.keys():\n",
        "  print(f\"{n} - {frutas}\")\n",
        "  n += 1\n"
      ]
    },
    {
      "cell_type": "markdown",
      "source": [
        "**Função Hash ou Algoritmo de Hash**, são expressões aritméticas e/ou lógica específica para resolver uma determinada aplicação.<br>\n",
        "\n",
        "Uma função hash não apresenta uma fórmula definida.<br>\n",
        "\n",
        "Deve ser projetada levando-se em consideração o tamanho do conjunto de dados, seu comportamento e os tipos de dados-chave utilizados.<br>\n",
        "\n",
        "Processo de contrução de um hash: https://drive.google.com/file/d/1J6zzM1-7Xtwukz-DQsYnmJtJveExBIwZ/view?usp=sharing <br>\n",
        "\n",
        "Uma boa função Hash:\n",
        "\n",
        "-  Fácil de ser calculada. Para que não seja comprometida a complexidade O(1).\n",
        "\n",
        "- Capaz de distribuir palavras-chave o mais uniformemente possível dentro da estrutura do array.\n",
        "\n",
        "- Capaz de minimizar colisões. Os dados devem ser inceridos de uma forma que as colisões sejam as mínimas possíveis, reduzndo o tempo gasto resolvendo colisões e também reavendo os dados.\n",
        "\n",
        "- Capaz de resolver qualquer colisão que ocorrer.\n",
        "\n",
        "Metodo da Divisão:\n",
        "\n",
        "- h(k) = k MOD n\n",
        "  - **k** é uma chave qualquer\n",
        "  - **n** é o tamanho do array\n",
        "  - **MOD** representa o resto de uma divisão.\n",
        "\n",
        "  \n",
        "\n",
        "\n"
      ],
      "metadata": {
        "id": "-L-WU6WJ-G9f"
      }
    },
    {
      "cell_type": "code",
      "source": [
        "# Exemplo de Método da Divisão:\n",
        "\n",
        "\n",
        "\n",
        "def metodoDivisao(k,m):\n",
        "  #h(k) = k MOD m\n",
        "  primeiro = k % m\n",
        "  print(f'h(k)={primeiro}', end='. ')\n",
        "  print(f'Será inserido no arrey, no indice {primeiro}.')\n",
        "\n",
        "#k = 100 e m = 12\n",
        "metodoDivisao(100,12)\n",
        "print(\"\\n\")\n",
        "metodoDivisao(100,15)\n",
        "\n"
      ],
      "metadata": {
        "colab": {
          "base_uri": "https://localhost:8080/"
        },
        "id": "CHByBv7PHL6U",
        "outputId": "279f7d5f-33e7-4384-dd02-0ae5df7d1707"
      },
      "execution_count": null,
      "outputs": [
        {
          "output_type": "stream",
          "name": "stdout",
          "text": [
            "h(k)=4. Será inserido no arrey, no indice 4.\n",
            "\n",
            "\n",
            "h(k)=10. Será inserido no arrey, no indice 10.\n"
          ]
        }
      ]
    },
    {
      "cell_type": "markdown",
      "source": [
        "**OBS:** Alterar o número do arrey (m), pode alterar todas as posições das chaves!"
      ],
      "metadata": {
        "id": "Vi50o-FHJMWY"
      }
    },
    {
      "cell_type": "code",
      "source": [
        "# Exemplo 02 de Método da Divisão:\n",
        "\n",
        "#quebrando números grandes, como exemplo, Oito digitos telefônicos:\n",
        "\n",
        "n = 99882233 # criar função para quebrar este numero e somalos\n",
        "#exemplo: 99 + 88 + 22 + 33 = 242, k = 242\n",
        "\n",
        "\n",
        "\n",
        "def quebrandoNumeros(n):\n",
        "  passaString = str(n)\n",
        "  bloco01 = n\n",
        "  print(bloco01)\n",
        "\n",
        "#quebrandoNumeros(99882233)\n",
        "\n",
        "#k=242, m = 12\n",
        "metodoDivisao(242,12)\n"
      ],
      "metadata": {
        "colab": {
          "base_uri": "https://localhost:8080/"
        },
        "id": "7n1v1kUvJsKv",
        "outputId": "307c08a8-4575-494e-de85-b469781b4a41"
      },
      "execution_count": null,
      "outputs": [
        {
          "output_type": "stream",
          "name": "stdout",
          "text": [
            "h(k)=2. Será inserido no arrey, no indice 2.\n"
          ]
        }
      ]
    },
    {
      "cell_type": "markdown",
      "source": [
        "Com **caracteres alfanuméricos**, podemos podemos pegar cada letra converter para ASCII e soma-los.<br>\n",
        "\n"
      ],
      "metadata": {
        "id": "2hfm2-ooQmpX"
      }
    },
    {
      "cell_type": "markdown",
      "source": [
        "#Hash Universal\n",
        "\n",
        "Observe esta situação: **h(k) = k MOD 6**, valor do array fixo em 6.\n",
        "- k = 6, h(6) = 6 MOD 6 = 0\n",
        "- k = 12, h(12) = 12 MOD 6 = 0\n",
        "- k = 18, h(18) = 18 MOD 6 = 0\n",
        "- k = 24, h(24) = 24 MOD 6 = 0\n",
        "- k = 30, h(30) = 30 MOD 6 = 0\n",
        "\n",
        "\n",
        "Idenficamos o probelma de **excesso de colisões!**, todas caindo no mesmo lugar e podemos resolver usando uma _hash universal_. <br>\n",
        "\n",
        "O uso de uma única função hash pode resultar em uma situação em que todas as chaves precisam ser inseridar na mesma posição, gerando colisão e, consequentemente, piorando o desempenho do algoritmo. <br>\n",
        "\n",
        "Para _minimizar_ o probelma, adotamos um conjunto H de funções hash. **Sorteamos uma função** dentro da classe de funções disponíveis para fazer a inserção do dado.<br>\n",
        "\n",
        "link de um exemplo(Classe de funções hash): https://drive.google.com/file/d/104V_x8s5xbEQ-_SkyWpg4c_HrEkPfgbN/view?usp=sharing\n",
        "\n",
        "\n",
        "Podemos escolher um valor para \"p\" e \"m' e variar \"a\" e \"b\" aleatoriametne para gerar funções diferentes com resultados diferentes.\n"
      ],
      "metadata": {
        "id": "J7cJ16poRRrV"
      }
    },
    {
      "cell_type": "markdown",
      "source": [
        "**Inserindo na Tabela Hash**"
      ],
      "metadata": {
        "id": "iGwiHphdL6wi"
      }
    },
    {
      "cell_type": "markdown",
      "source": [
        "Como exemplo, vamos achar o local para iserir siglas de Estados brasileiros que tem 2 digitos, duas letras (PE, PB,RN, outros..).<br>\n",
        "\n",
        "- Usando a tavbela ASCII para pegar os valores. link: https://www.matematica.pt/util/resumos/tabela-ascii.php <br>\n",
        "- Tamanho do arrey será de 10(m=10). Ou seja, [0,1,2,3,4,5,6,7,8,9]<br>\n",
        "\n",
        "_função Hash h(k)_<br>\n",
        "\n",
        "**h(k) = (char1_ASCII + char2_ASCII) MOD m** <br>\n",
        "\n",
        "\n",
        "\n"
      ],
      "metadata": {
        "id": "YEsFRMrrMaiO"
      }
    },
    {
      "cell_type": "code",
      "source": [
        "#Inserindo na tabela\n",
        "#Tabela com espaços delimitados pelo valor 'm'\n",
        "m = 10\n",
        "tabela = [None]*m\n",
        "asc = {'A':65,'B':66,'C':67,'D':68,'E':69,'F':70,'G':71,'H':72,'I':73,'J':74,'K':75,'L':76,\n",
        "       'M':77,'N':78,'O':79,'P':80,'Q':81,'R':82,'S':83,'T':84,'U':85,'V':86,'W':87,'X':88,\n",
        "       'Y':89,'X':89}\n",
        "\n",
        "#Funções:\n",
        "\n",
        "def tratamentoString(estado):\n",
        "  separacao = estado.split()\n",
        "  separacao_l1 = separacao[0][0]\n",
        "  separacao_l2 = separacao[0][1]\n",
        "  next = valoresASC(separacao_l1, separacao_l2)\n",
        "  return next\n",
        "\n",
        "def valoresASC(l1,l2):\n",
        "  letra01 = l1.upper()\n",
        "  letra02 = l2.upper()\n",
        "  valor01 = asc[f'{letra01}']\n",
        "  valor02 = asc[f'{letra02}']\n",
        "  soma = valor01 + valor02\n",
        "  return metodoDivisao(soma, m)\n",
        "\n",
        "def concatenacao(estado):\n",
        "  separacao = estado.split()\n",
        "  separacao_l1 = separacao[0][0]\n",
        "  separacao_l2 = separacao[0][1]\n",
        "  letra01 = separacao_l1.upper()\n",
        "  letra02 = separacao_l2.upper()\n",
        "  return letra01 + letra02\n",
        "\n",
        "def metodoDivisao(k,m):\n",
        "  #h(k) = k MOD m\n",
        "  posicao = k % m\n",
        "  if tabela[posicao] == None:\n",
        "    #tabela.insert(posicao, concatenacao(estado))\n",
        "    tabela[posicao] = concatenacao(estado)\n",
        "  else:\n",
        "    print('#'*3+'Colisão (Conflito de Posição). Não adicionado !'+'#'*3)\n",
        "  #  tabela.insert(posicao + 1, concatenacao(estado))\n",
        "  print(f'h(k)={posicao}', end='. ')\n",
        "  print(f'Será inserido no arrey, no indice {posicao}.')\n",
        "  return tabela\n",
        "\n",
        "\n",
        "def alocacao(estado):\n",
        "  if type(estado) == str:\n",
        "    tratamentoString(estado)\n",
        "  else:\n",
        "    print(\"Digite apenas 2 letras (PE, PB, Outros)\")\n",
        "\n",
        "def status():\n",
        "  quantidade = 0\n",
        "  for n in tabela:\n",
        "    if n != None:\n",
        "      quantidade += 1\n",
        "  indiceLivre = len(tabela) - quantidade\n",
        "  return indiceLivre, quantidade\n",
        "\n",
        "#print(asc['P'])\n",
        "\n",
        "#valoresASC('p','E')\n",
        "\n",
        "while True:\n",
        "\n",
        "  estado = input('Digite o Estado (2 letras): ')\n",
        "\n",
        "  alocacao(estado)\n",
        "  print(f\"Tabela atual - {tabela}\")\n",
        "  print(status(), sep=' - ')\n"
      ],
      "metadata": {
        "id": "aWDg_cYyNoaH"
      },
      "execution_count": null,
      "outputs": []
    },
    {
      "cell_type": "code",
      "source": [
        "# Implementação da Aula\n",
        "\n",
        "#funções:\n",
        "\n",
        "def hashFunc(k,n): #Função do método da divisão\n",
        "  return k % n\n",
        "\n",
        "def hashFuncSigla(k,n):\n",
        "  k = list(k) # Quebrando a string em um lista em python ****\n",
        "  #ord - Converte a letra para ASCII\n",
        "  return (ord(k[0] + ord(k[1]))% n)\n",
        "\n",
        "n = 10\n",
        "tabelaHash = [None]* n\n",
        "\n",
        "while True:\n",
        "  print('1 - Inserir na tabela hash')\n",
        "  print('2 - Remover na tabela hash')\n",
        "  print('3 - Lista a tabela hash')\n",
        "  print('4 - Sair')\n",
        "\n",
        "\n",
        "  op = int(input(\"\\nEscolha uma Opção: \"))\n",
        "\n",
        "  if op == 1:\n",
        "    chave = input(\"Digite a sigla de um Estado: \")\n",
        "    pos = hashFuncSigla(chave, n) #Passando a chave(chave,) e onde será inserido (,n)\n",
        "    if tabelaHash[pos] == None: #insere caso esteja vázio\n",
        "      tabelaHash[pos] == chave\n",
        "    else:\n",
        "      print('Já existe um dado neste lugar...') # informa caso o index já esteja ocupado\n",
        "\n",
        "  elif op == 2:\n",
        "    chave = int(input('Digite o que deseja remover: '))\n",
        "    pos = hashFuncSigla(chave,n)\n",
        "    if tabelaHash[pos] == chave:\n",
        "      tabelaHash[pos] == None\n",
        "\n",
        "  elif op == 3:\n",
        "    print(tabelaHash)\n",
        "\n",
        "  elif op == 4:\n",
        "    print('Encerrando...')\n",
        "    break\n",
        "  else:\n",
        "    print('\\nSeleção inválida, digite uma opção válida.')\n"
      ],
      "metadata": {
        "id": "Zmt2Rdr9h48y"
      },
      "execution_count": null,
      "outputs": []
    },
    {
      "cell_type": "markdown",
      "source": [
        "**Tratando Colisões em Tabela Hash**"
      ],
      "metadata": {
        "id": "LicwdL259HMQ"
      }
    },
    {
      "cell_type": "markdown",
      "source": [
        "**OBS**: É **impossível** escrevermos uma função hash que seja livre de colisões. Ou seja, são tratáveis não inevitáveis.<br>\n",
        "\n",
        "Ocorre quando uma chave precisa ser posicionada em uma posição em que já existe outra chave.<br>\n",
        "\n",
        "**Conhecendo três tipos:**\n",
        "- **Endereçamento Aberto** - Quando todas as posições são conhecidas e se tem em cada uma, no máximo, _uma chave_.\n",
        "    - _Tentativa Linear_ - Busca-se a pŕoxima posição livre e se insere o dado nesta \"nova\" posição.\n",
        "    - _Tentativa Quadrática_ - A próxima posição é calculada somando-se o valor da variável incremental 'i'.<br>\n",
        "      - modelo: **d = h(PA) = (d + 1) MOD 10** <br>\n",
        "        - d - Valor que tentamos incerir e deu colisão.<br>\n",
        "        - i - É um contador que sempre se inicia em 1 ( i = 1 ). <br>\n",
        "      A diferença da Tentativa _Linear_ para a _Quadrática_, é que na _linear_ sempre vai tentar alocar o dado no _próximo local livre_. Já a _Quadrárica_, pela sua interação (i), não, necessáriamente será a pŕoxima vaga que será alocado o dado, podendo ser vários indices á frente do local que deu colisão à alocação do dado. <br><br>\n",
        "- **Endereçamento em Cadeia** - Cada posição poderá conter **diversas chaves encadeadas**. A forma de implementar é utilizando uma lista encadeada simples. Com isso é formado uma \"sub lista\" ou \"lista paralela\", onde as colisões formará uma lista com os HEADERS alocados na mesma posição de índice qeu deu colisão. E, caso precise, terá que ser feita uma busca nessa listas de heraders onde houve colisão e se construiu dados essa \"lista paralela de headers\"."
      ],
      "metadata": {
        "id": "YTUPgKSh9P-e"
      }
    },
    {
      "cell_type": "code",
      "source": [
        "\n",
        "# Endereçamento aberto e tentativa linear:\n",
        "\n",
        "\n",
        "#funções:\n",
        "\n",
        "def hashFunc(k,n): #Função do método da divisão\n",
        "  return k % n\n",
        "\n",
        "def hashFuncSigla(k,n):\n",
        "  k = list(k) # Quebrando a string em um lista em python ****\n",
        "  #ord - Converte a letra para ASCII\n",
        "  return (ord(k[0] + ord(k[1]))% n)\n",
        "\n",
        "#Tentativa Linear\n",
        "def tentativaLinear(k , n, pos, tableaHash):\n",
        "  tentativa = pos\n",
        "  while (tabelaHash[tentativa] != None): # Enquanto não estiver vázia\n",
        "    tentativa += 1 # Verifique o próximo indice apra vê se está vazio.\n",
        "    if tentativa == n:\n",
        "      tentativa = 0\n",
        "    if tentativa == pos:\n",
        "      tentativa = -1\n",
        "      break\n",
        "  return tentativa\n",
        "\n",
        "#Tentativa Linear Remover\n",
        "def tentativaLinear(k , n, pos, tableaHash):\n",
        "  tentativa = pos\n",
        "  while (tabelaHash[tentativa] != k):\n",
        "    tentativa += 1\n",
        "    if tentativa == n: # Verifica até o final do array uma posição livre\n",
        "      tentativa = 0 # coloca o contador das tentativas para o indice zero (verificando no inicio, já que ele pega do indice sem vaga e olha apenas o da frente)\n",
        "    if tentativa == pos: # Verifica no inicio do array uma posição livre\n",
        "      tentativa = -1 # informa que não foi possivel inserir em nenhum lugar\n",
        "      break\n",
        "  return tentativa\n",
        "\n",
        "\n",
        "#Main\n",
        "n = 10\n",
        "tabelaHash = [None]* n # A grosso modo, inserindo 10 None em cada indice da tabela\n",
        "\n",
        "while True:\n",
        "  print('1 - Inserir na tabela hash')\n",
        "  print('2 - Remover na tabela hash')\n",
        "  print('3 - Lista a tabela hash')\n",
        "  print('4 - Sair')\n",
        "\n",
        "\n",
        "  op = int(input(\"\\nEscolha uma Opção: \"))\n",
        "\n",
        "  if op == 1:\n",
        "    chave = input(\"Digite a sigla de um Estado: \")\n",
        "    pos = hashFuncSigla(chave, n) #Passando a chave(chave,) e onde será inserido (,n)\n",
        "    if tabelaHash[pos] == None: #insere caso esteja vázio\n",
        "      tabelaHash[pos] == chave\n",
        "    else:# Colisão\n",
        "      print('Já existe um dado neste lugar, buscando nova alocação...') # informa caso o index já esteja ocupado\n",
        "      pos = tentativaLinear(chave, n, pos, tabelaHash)\n",
        "      if pos != -1:\n",
        "        tabelaHash[pos] = chave\n",
        "      else:\n",
        "        print(\"Tabela HASH cheia. Impossível inserir.\")\n",
        "\n",
        "\n",
        "  elif op == 2:\n",
        "    chave = int(input('Digite o que deseja remover: '))\n",
        "    pos = hashFuncSigla(chave,n) # calcula a posição qeu se vai emxer usando a função.\n",
        "    if tabelaHash[pos] == chave:\n",
        "      tabelaHash[pos] == None\n",
        "    else:# Colisão\n",
        "      pos = tentativaLinear(chave, n, pos, tabelaHash)\n",
        "      if pos != -1:\n",
        "        tabelaHash[pos] = None\n",
        "      else:\n",
        "        print(\"Valor não localizado para remoção.\")\n",
        "\n",
        "  elif op == 3:\n",
        "    print(tabelaHash)\n",
        "\n",
        "  elif op == 4:\n",
        "    print('Encerrando...')\n",
        "    break\n",
        "  else:\n",
        "    print('\\nSeleção inválida, digite uma opção válida.')"
      ],
      "metadata": {
        "id": "s2es72DuDM9o"
      },
      "execution_count": null,
      "outputs": []
    },
    {
      "cell_type": "code",
      "source": [
        "# Endereçametno em Cadeia:\n",
        "# Trabalhando com listas encadeada no HEAD\n",
        "# colisão nunca é tratada, mas é inserida na lista de encadeadas do HEAD, apontado para a colisão anterior desta no indice\n",
        "# OBS: Trabalhando com Classes\n",
        "\n",
        "class elementoDaListaSimples: # Classe para estânciar cada umd o elemtnos da lista\n",
        "  def __init__(self, chave=None, dado=None):\n",
        "    self.chave = chave\n",
        "    self.dado = dado\n",
        "    self.proximo = None\n",
        "\n",
        "class listaEncadeadaSimples: # Classe da Lista, adicionando os elementos na lista\n",
        "  def __init__(self):\n",
        "    self.head = None\n",
        "\n",
        "  def inserir(self, chave, dado):\n",
        "    nodo = elementoDaListaSimples(chave, dado)\n",
        "    if self.head == None: # Se o indice estiver vázio\n",
        "      self.head = nodo # adicione\n",
        "      return 0\n",
        "    else:\n",
        "      nodo.proximo = self.head\n",
        "      self.head = nodo\n",
        "      print('Houve colisão, tratando a colisão...')\n",
        "      return 0\n",
        "\n",
        "  def imprimir(self):\n",
        "    temp = self.head\n",
        "    while temp:\n",
        "      print(f'{temp.chave}\\t{temp.dado}')\n",
        "      temp = temp.proximo\n",
        "\n",
        "\n",
        "class tabelaHash:\n",
        "  def __init__(self):\n",
        "    self.tamanho = 10 # definindo tamanho da tabela\n",
        "    self.lenght = 0\n",
        "    self.h = [listaEncadeadaSimples() for i in range(0, self.tamanho)]\n",
        "\n",
        "  def hashFuncSigla(self, k):\n",
        "    k = list(k) # Quebrando a string em um lista em python ****\n",
        "    #ord - Converte a letra para ASCII\n",
        "    return (ord(k[0]) + ord(k[1]))% self.tamanho\n",
        "\n",
        "  def inserir(self, chave, dado):\n",
        "    pos = self. hashFuncSigla(chave) # mostra a posição da chave onde será incluido no indice\n",
        "    add = self.h[pos].inserir(chave, dado) # adicionar na lista com inserir na lista encadeada\n",
        "\n",
        "  def imprimir(self):\n",
        "    for i in range(0, self.tamanho):\n",
        "      self.h[i].imprimir() # h = Encadeamento simples\n",
        "\n",
        "\n",
        "# Main\n",
        "\n",
        "teste = tabelaHash() # Instâciada através da tabelaHash\n",
        "\n",
        "while True:\n",
        "  print('1 - Inserir na tabela hash')\n",
        "  print('2 - Remover na tabela hash')\n",
        "  print('3 - Lista a tabela hash')\n",
        "  print('4 - Sair')\n",
        "\n",
        "\n",
        "  op = int(input(\"\\nEscolha uma Opção: \"))\n",
        "\n",
        "  if op == 1:\n",
        "    chave = input('Digite a sigla de um Estado: ')\n",
        "    dado = input('Digite o nome do Estado: ')# Inserindo tb o nome do estado.\n",
        "    teste.inserir(chave, dado) # método de inserir\n",
        "  elif op == 2:\n",
        "    chave = input('Digite o que deseja remover: ')\n",
        "    # Preciso implementar\n",
        "  elif op == 3:\n",
        "    teste.imprimir()\n",
        "  elif op == 4:\n",
        "    print('Encerrando...')\n",
        "    break\n",
        "  else:\n",
        "    if type(op) != int:\n",
        "      print(\"Selecione uma opção válida.\\n\")\n",
        "\n"
      ],
      "metadata": {
        "colab": {
          "base_uri": "https://localhost:8080/"
        },
        "id": "UkhkCrPMjh2O",
        "outputId": "89a6046f-1de9-49a7-e90c-8258e3cd45e2"
      },
      "execution_count": null,
      "outputs": [
        {
          "output_type": "stream",
          "name": "stdout",
          "text": [
            "1 - Inserir na tabela hash\n",
            "2 - Remover na tabela hash\n",
            "3 - Lista a tabela hash\n",
            "4 - Sair\n",
            "\n",
            "Escolha uma Opção: 1\n",
            "Digite a sigla de um Estado: pe\n",
            "Digite o nome do Estado: pernmabuco\n",
            "1 - Inserir na tabela hash\n",
            "2 - Remover na tabela hash\n",
            "3 - Lista a tabela hash\n",
            "4 - Sair\n",
            "\n",
            "Escolha uma Opção: 1\n",
            "Digite a sigla de um Estado: pb\n",
            "Digite o nome do Estado: paraiba\n",
            "1 - Inserir na tabela hash\n",
            "2 - Remover na tabela hash\n",
            "3 - Lista a tabela hash\n",
            "4 - Sair\n",
            "\n",
            "Escolha uma Opção: 1\n",
            "Digite a sigla de um Estado: Am\n",
            "Digite o nome do Estado: amazonas\n",
            "1 - Inserir na tabela hash\n",
            "2 - Remover na tabela hash\n",
            "3 - Lista a tabela hash\n",
            "4 - Sair\n",
            "\n",
            "Escolha uma Opção: 1\n",
            "Digite a sigla de um Estado: ap\n",
            "Digite o nome do Estado: amapa\n",
            "1 - Inserir na tabela hash\n",
            "2 - Remover na tabela hash\n",
            "3 - Lista a tabela hash\n",
            "4 - Sair\n",
            "\n",
            "Escolha uma Opção: 1\n",
            "Digite a sigla de um Estado: ac\n",
            "Digite o nome do Estado: acre\n",
            "1 - Inserir na tabela hash\n",
            "2 - Remover na tabela hash\n",
            "3 - Lista a tabela hash\n",
            "4 - Sair\n",
            "\n",
            "Escolha uma Opção: 3\n",
            "pb\tparaiba\n",
            "pe\tpernmabuco\n",
            "Am\tamazonas\n",
            "ac\tacre\n",
            "ap\tamapa\n",
            "1 - Inserir na tabela hash\n",
            "2 - Remover na tabela hash\n",
            "3 - Lista a tabela hash\n",
            "4 - Sair\n",
            "\n",
            "Escolha uma Opção: 1\n",
            "Digite a sigla de um Estado: pr\n",
            "Digite o nome do Estado: parana\n",
            "Houve colisão, tratando a colisão...\n",
            "1 - Inserir na tabela hash\n",
            "2 - Remover na tabela hash\n",
            "3 - Lista a tabela hash\n",
            "4 - Sair\n",
            "\n",
            "Escolha uma Opção: 3\n",
            "pb\tparaiba\n",
            "pe\tpernmabuco\n",
            "Am\tamazonas\n",
            "pr\tparana\n",
            "ac\tacre\n",
            "ap\tamapa\n",
            "1 - Inserir na tabela hash\n",
            "2 - Remover na tabela hash\n",
            "3 - Lista a tabela hash\n",
            "4 - Sair\n",
            "\n",
            "Escolha uma Opção: 4\n",
            "Encerrando...\n"
          ]
        }
      ]
    },
    {
      "cell_type": "markdown",
      "source": [
        "**Fator de Carga**\n",
        "\n",
        "Ajuda a definir se o tamanho da tabela hash é suficiente para uma determinada aplicação.\n",
        "\n",
        "- Modelo: Totala de Chaves / Total de Espaços <br>\n",
        "\n",
        "Exemplo:\n",
        "\n",
        "- 27 estados brasileiros (contando com DF)\n",
        "- 10 posições no array\n",
        "- Fator de carga = 2,7\n",
        "\n",
        "**Análises:** <br>\n",
        "\n",
        "- Fator de carga acima de 1,0 indica a necessidade de redimensionar o array. POis não irá comportar todas as chaves que precisamos, dando excesso de colisões.\n",
        "- Redimensionar o tempo todo tem um alto custo computacional.\n",
        "\n",
        "Analise de desempenho: https://drive.google.com/file/d/1fKYLjPdGl5xPuIqNe0ggiRQ9ANBieTLI/view?usp=sharing\n",
        "\n"
      ],
      "metadata": {
        "id": "cY1X5Vi_GjRh"
      }
    }
  ]
}
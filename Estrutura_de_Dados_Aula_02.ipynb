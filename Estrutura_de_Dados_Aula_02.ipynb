{
  "nbformat": 4,
  "nbformat_minor": 0,
  "metadata": {
    "colab": {
      "provenance": [],
      "authorship_tag": "ABX9TyOD4lI74APFpYRwQ+PILs3o",
      "include_colab_link": true
    },
    "kernelspec": {
      "name": "python3",
      "display_name": "Python 3"
    },
    "language_info": {
      "name": "python"
    }
  },
  "cells": [
    {
      "cell_type": "markdown",
      "metadata": {
        "id": "view-in-github",
        "colab_type": "text"
      },
      "source": [
        "<a href=\"https://colab.research.google.com/github/Shaffer443/EstruturaDeDados/blob/main/Estrutura_de_Dados_Aula_02.ipynb\" target=\"_parent\"><img src=\"https://colab.research.google.com/assets/colab-badge.svg\" alt=\"Open In Colab\"/></a>"
      ]
    },
    {
      "cell_type": "code",
      "source": [
        "# Instalações:\n",
        "\n",
        "!pip install time\n",
        "!pip install random"
      ],
      "metadata": {
        "id": "kNl0ueJeaw1C"
      },
      "execution_count": null,
      "outputs": []
    },
    {
      "cell_type": "markdown",
      "source": [
        "#Estrutura de Dados Aula 02"
      ],
      "metadata": {
        "id": "1FKyFpgw_Af8"
      }
    },
    {
      "cell_type": "markdown",
      "source": [
        "**Bubble Sort: Algoritimo**\n",
        "\n",
        "A lógica é comparar o número anterior com o próximo. Se precisar inverter para ordenar, a ação será feita.\n",
        "\n",
        "Como há 5 elementos, 5 numeros na lista, essa verificação varrerá cada possição da lista 5 vezes para verificar se todas as posições esta com \"false\" na necessidade de troca, e com isso se dará a ordem com concluida.\n",
        "\n"
      ],
      "metadata": {
        "id": "KJPDTmJrBCA2"
      }
    },
    {
      "cell_type": "code",
      "execution_count": null,
      "metadata": {
        "colab": {
          "base_uri": "https://localhost:8080/"
        },
        "id": "Ty0Cw5-L-_Mi",
        "outputId": "6b17c7f5-5941-4c50-ca69-f6401a32ee6b"
      },
      "outputs": [
        {
          "output_type": "stream",
          "name": "stdout",
          "text": [
            "[1, 2, 4, 5, 8]\n"
          ]
        }
      ],
      "source": [
        "def bubbleSort(dados): #Dados tem que vir de uma lista apra ordenar\n",
        "  tamanho = len(dados)\n",
        "  for v in range(0,tamanho,1): # numero de vezes que laço varrerá a lista\n",
        "    for i in range(0,tamanho-1,1):\n",
        "      if dados[i] > dados[i+1]:\n",
        "        trocando = dados[i] # salva temporariamente o numero que será trocado\n",
        "        dados[i] = dados[i+1] # trocando o lugar\n",
        "        dados[i+1] = trocando # Devolve ao novo local o número armazeando na variável temporária\n",
        "\n",
        "#Main\n",
        "dados = [5,4,2,1,8]\n",
        "bubbleSort(dados)\n",
        "print(dados)\n",
        "\n",
        "#Complexidade Big-O: O(n**2)"
      ]
    },
    {
      "cell_type": "markdown",
      "source": [
        "**Merge Sort**\n",
        "\n",
        "Dividindo os dados sempre ao meio (dividir para conquistar), até não poder dividir mais. Sempre posições inteiras.\n",
        "\n",
        "Querando até a menor parte, juntando-os e ordenando-os, montado-os novamente."
      ],
      "metadata": {
        "id": "iJTFN-AQBrDD"
      }
    },
    {
      "cell_type": "code",
      "source": [
        "def margeSort(dados):\n",
        "  if len(dados) > 1: #Verificação se rpecisa ou não continuar dividindo os dados\n",
        "    # Divisão da lista (n)\n",
        "    meio = len(dados)//2 #pegando apenas a parte inteira\n",
        "    esquerda = dados[:meio] #meio pro final (0 a 5)\n",
        "    direita = dados[meio:]# meio pro começo (4 a 9)\n",
        "    margeSort(esquerda) #recursividade para dividir os dados, até o if da \"false\"\n",
        "    margeSort(direita)  #recursividade para dividir os dados, depois de terminar o margeSort(esquerda), irá até o if da \"false\"\n",
        "    # Mescla dos dados, agrupando os dados (logn)\n",
        "    i = j = k = 0\n",
        "    while i < len(esquerda) and j<len(direita):#copiando os dados para os locais corretos\n",
        "      if esquerda[i]<direita[j]:\n",
        "        dados[k]=esquerda[i]\n",
        "        i+=1\n",
        "      else:\n",
        "        dados[k]=direita[j]\n",
        "        j+=1\n",
        "      k+=1\n",
        "    while i<len(esquerda): #ajuda, caso algum dado esteja fora do loop do lado esquerdo\n",
        "      dados[k] = esquerda[i]\n",
        "      i+=1\n",
        "      k+=1\n",
        "    while j<len(direita): #ajuda, caso algum dado esteja fora do loop do lado esquerdo\n",
        "      dados[k] = direita[j]\n",
        "      j+=1\n",
        "      k+=1\n",
        "\n",
        "#Main\n",
        "dados = [54,26,93,17,99,77,31,44,55]\n",
        "margeSort(dados)\n",
        "print(dados)\n",
        "\n",
        "#Temos 3 niveis na árvore de divisão (0 a 3).\n",
        "#total de conjutnos por nível é:\n",
        "#0: 2**0 = 1\n",
        "#1: 2**1 = 2\n",
        "#2: 2**2 = 4\n",
        "#3: 2**3 = 8\n",
        "\n",
        "#total de chamadas recursivas da função com 3 níveis:\n",
        "total=[[2**0],[2**1],[2**2],[2**3]]\n",
        "soma= total[0]+total[1]+total[2]+total[3]\n",
        "print(f'Total de chamadas recursivas é {sum(soma)}')\n",
        "\n",
        "# Complexidade:\n",
        "# O(logn).O(n) = OMargeSort(n.logn)\n"
      ],
      "metadata": {
        "colab": {
          "base_uri": "https://localhost:8080/"
        },
        "id": "fvLE51PKBkYe",
        "outputId": "62c50355-a143-47d3-d112-0acab9f9b86e"
      },
      "execution_count": null,
      "outputs": [
        {
          "output_type": "stream",
          "name": "stdout",
          "text": [
            "[17, 26, 31, 44, 54, 55, 77, 93, 99]\n",
            "Total de chamadas recursivas é 15\n"
          ]
        }
      ]
    },
    {
      "cell_type": "markdown",
      "source": [
        "**Quick Sort**\n",
        "\n",
        "Conhecido com ordenação rápida.\n",
        "\n",
        "Contém o principio de \"dividir para conquistar\", porém com uma lógica diferente.\n",
        "\n",
        "O Quick Sort só pode ser atualizado com três elemntos ou mais.\n",
        "\n",
        " o quick sort elege um dos dados como \"pivô\", geralamente o primeiro dado da lista, como referência, comparando com todos os dados a esquerda e todos os dados a direita do \"pivô\", se é ou não maiores que o pivô e jogando para esquerda ou não.\n",
        "\n",
        " Após esta divisão, organiza-se os lados e seus elementos entre si. Elementos da esquerda com eles mesmos e os da direita com eles mesmo, elegendo-os novos \"pivôs\", caso, cada lado tenha mais de três elementos para que se possa usar o quick sort.\n",
        "\n",
        " Caso fique apenas 2 elementos, é feito um ordenação simples com esses elementos.\n"
      ],
      "metadata": {
        "id": "WcBNlav4SwT9"
      }
    },
    {
      "cell_type": "code",
      "source": [
        "def quickSort(dados, inicio, fim): # tem recursão e dividir para conquistar (logn)\n",
        "  if inicio < fim:\n",
        "    posicaoDeParticionamento = particao(dados, inicio, fim) #organizaçaõ dos dados\n",
        "    quickSort(dados, inicio, posicaoDeParticionamento - 1) # recursivamente, até o pivo\n",
        "    quickSort(dados, posicaoDeParticionamento +1, fim) # recursivamente após o pivo.\n",
        "\n",
        "def particao(dados, inicio, fim): #2 laços de repetição como PA = n*n = n**2\n",
        "  pivo = dados[inicio]\n",
        "  esquerda = inicio + 1\n",
        "  direita = fim\n",
        "  flag = False\n",
        "  while not flag:\n",
        "    while esquerda <= direita and dados[esquerda] <= pivo: #Varre ṕara esquerda\n",
        "      esquerda = esquerda + 1 # marcação das posições onde parou\n",
        "    while dados[direita] >= pivo and direita >= esquerda: #varre para direita\n",
        "      direita = direita - 1 # marcação das posições onde parou\n",
        "    if direita < esquerda:\n",
        "      flag = True\n",
        "    else:\n",
        "      temporario = dados[esquerda]\n",
        "      dados[esquerda] = dados[direita]\n",
        "      dados[direita] = temporario\n",
        "  temporario = dados[inicio]\n",
        "  dados[inicio] = dados[direita]\n",
        "  dados[direita]= temporario\n",
        "  return direita\n",
        "\n",
        "#Main\n",
        "dados =[50,25,92,16,76,30,43,54,19]\n",
        "quickSort(dados,0,len(dados)-1) # (n**2*logn) = (n**2), pq n**2 cresce bem amsi rapido do que logn e isso faz com que possamos negligênciar logn\n",
        "print(dados)\n",
        "\n",
        "# Complexidade Big-O:\n",
        "# O f_quickSort(logn), O fparticao(n**2), Oquicksort(n**2.logn)=O(n**2)"
      ],
      "metadata": {
        "colab": {
          "base_uri": "https://localhost:8080/"
        },
        "id": "8KXbkESIYRq3",
        "outputId": "d880d2d4-2c76-4bd8-cbe9-86bd31b563be"
      },
      "execution_count": 7,
      "outputs": [
        {
          "output_type": "stream",
          "name": "stdout",
          "text": [
            "[16, 19, 25, 30, 43, 50, 54, 76, 92]\n"
          ]
        }
      ]
    },
    {
      "cell_type": "markdown",
      "source": [
        "**Buble sort e Quick Sort**, tem a mesma complexidade _O(n**2)_<br>\n",
        "**Marge Sort**, tem a complexidade de _O(n.logn)_. E isso faz com que se saia melhor que os outros dois casos,em analise de piro caso. pois os outros dois se sae pior que o _Marge Sort_"
      ],
      "metadata": {
        "id": "whiA2yRRd3UK"
      }
    },
    {
      "cell_type": "markdown",
      "source": [
        "#Comparativo de Performance"
      ],
      "metadata": {
        "id": "dCADGL9saiTJ"
      }
    },
    {
      "cell_type": "code",
      "source": [
        "import time\n",
        "import random\n",
        "\n",
        "def bubbleSort(dados): #Dados tem que vir de uma lista apra ordenar\n",
        "  tamanho = len(dados) #Tamano do conjunto de dados\n",
        "  for v in range(0,tamanho,1): # numero de vezes que laço varrerá a lista\n",
        "    for i in range(0,tamanho-1,1):# Laço interno que pega os valores em pares\n",
        "      if dados[i] > dados[i+1]: #comparação\n",
        "        trocando = dados[i] # salva temporariamente o numero que será trocado\n",
        "        dados[i] = dados[i+1] # trocando o lugar\n",
        "        dados[i+1] = trocando # Devolve ao novo local o número armazeando na variável temporária\n",
        "\n",
        "# MAIN:\n",
        "\n",
        "dadosGerados = [] #lista que recebe os dados, numeros aleátórios gereados pelo random.\n",
        "for i in range(0,1000): # Contagem de 0 a qualquer numero que quisermos. OBS: roda bem até 1000 as duas funções juntas.\n",
        "  n = random.randint(1,9999) # geração de numero inteiros de 1 a 9999\n",
        "  dadosGerados.append(n) # adição dos nuemros gerados na lista \"dados\"\n",
        "#print(dados)\n",
        "\n",
        "ticBubble = time.perf_counter() #Pega o tempo incial, o valor e joga na variável \"tic\"\n",
        "bubbleSort(dadosGerados)\n",
        "tocBubble = time.perf_counter() #Pega o tempo final, pego o valor do contador ao terminar de rodar a função \"bubbleSort(dados)\"\n",
        "\n",
        "print(\"BUBBLE SORT\")\n",
        "print(f\"\\nValor inicial {ticBubble}\")\n",
        "print(f\"\\nValor final {tocBubble}\")\n",
        "print(f\"\\nTempo Bubble Sort: {tocBubble-ticBubble:0.3f}ms\") # subtrai o valor final - incial\n",
        "\n",
        "#Entendimento que quanto maior a entrada de dados pior o desempenho. 100 dados é um,1000 dados é outro e 10000 é outro e etc.\n",
        "\n",
        "ticQuick = time.perf_counter() #Pega o tempo incial, o valor e joga na variável \"tic\"\n",
        "quickSort(dadosGerados,0,len(dadosGerados)-1)\n",
        "tocQuick = time.perf_counter() #Pega o tempo final, pego o valor do contador ao terminar de rodar a função \"bubbleSort(dados)\"\n",
        "\n",
        "#OBS: 10 milhoes de dados, já estoura o máxio de variável do sistema, isoladamente.\n",
        "\n",
        "print(\"\\n\\nQUICK SORT\")\n",
        "print(f\"\\nValor inicial {ticQuick}\")\n",
        "print(f\"\\nValor final {tocQuick}\")\n",
        "print(f\"\\nTempo Quick Sort: {tocQuick-ticQuick:0.3f}ms\") # subtrai o valor final - incial\n",
        "\n",
        "#Entendimento que quanto maior a entrada de dados pior o desempenho com esperado, porém, aidna assim a preformance é bem melhor que o bubble sort.\n",
        "# Logo, o Quick sort,para volume maiores de dados de entrada, performance melhor que o bubble sort.\n",
        "\n"
      ],
      "metadata": {
        "colab": {
          "base_uri": "https://localhost:8080/"
        },
        "id": "DGMEXBFkaljL",
        "outputId": "6d5d9d6f-b70e-4015-b087-497cdde9335f"
      },
      "execution_count": 21,
      "outputs": [
        {
          "output_type": "stream",
          "name": "stdout",
          "text": [
            "BUBBLE SORT\n",
            "\n",
            "Valor inicial 2915.004234887\n",
            "\n",
            "Valor final 2915.122559332\n",
            "\n",
            "Tempo Bubble Sort: 0.118ms\n",
            "\n",
            "\n",
            "QUICK SORT\n",
            "\n",
            "Valor inicial 2915.123077482\n",
            "\n",
            "Valor final 2915.163716001\n",
            "\n",
            "Tempo Quick Sort: 0.041ms\n"
          ]
        }
      ]
    },
    {
      "cell_type": "markdown",
      "source": [
        "#Minhas Ideias\n"
      ],
      "metadata": {
        "id": "5t1CPUXXYSta"
      }
    },
    {
      "cell_type": "code",
      "source": [
        "esquerda =[]\n",
        "direita = []\n",
        "def quickSort(dados): #definir quem vai para o lado esquerdo (menor que o \"pivô\") ou não\n",
        "  pivo = dados[0]\n",
        "  #print(pivo)\n",
        "  for i in dados:\n",
        "    if pivo > i:\n",
        "      #print(i)\n",
        "      paraEsquerda = i\n",
        "      esquerda.append(paraEsquerda)\n",
        "      quickSort(esquerda)\n",
        "    else:\n",
        "      #print(\"não tem\")\n",
        "      paraDireita = i\n",
        "      direita.append(paraDireita)\n",
        "      if len(direita) < 2:\n",
        "        # if direira[0] > direita[1]:\n",
        "        #   trocando = direita[0] # salva temporariamente o numero que será trocado\n",
        "        #   direita[0] = direita[1] # trocando o lugar\n",
        "        #   direita[1] = trocando # Devolve ao novo local o número armazeando na variável temporária\n",
        "        trocando(direita)\n",
        "      else:\n",
        "        quickSort(direita)\n",
        "\n",
        "def trocando(lista):\n",
        "  if lista[0] > lista[1]:\n",
        "      trocando = lista[0] # salva temporariamente o numero que será trocado\n",
        "      lista[0] = lista[1] # trocando o lugar\n",
        "      lista[1] = trocando # Devolve ao novo local o número armazeando na variável temporária\n",
        "  return lista\n",
        "\n",
        "# Main\n",
        "lista=[25,9,8,3,8,9,10,15,80]\n",
        "quickSort(lista)\n",
        "print(lista)\n",
        "print(esquerda)\n",
        "print(direita)"
      ],
      "metadata": {
        "colab": {
          "base_uri": "https://localhost:8080/",
          "height": 380
        },
        "id": "BVGJ6QpnVjx4",
        "outputId": "d1ded9b9-9991-4e36-dab6-6bd3c590fc86"
      },
      "execution_count": null,
      "outputs": [
        {
          "output_type": "error",
          "ename": "IndexError",
          "evalue": "ignored",
          "traceback": [
            "\u001b[0;31m---------------------------------------------------------------------------\u001b[0m",
            "\u001b[0;31mIndexError\u001b[0m                                Traceback (most recent call last)",
            "\u001b[0;32m<ipython-input-30-1cf80276307e>\u001b[0m in \u001b[0;36m<cell line: 34>\u001b[0;34m()\u001b[0m\n\u001b[1;32m     32\u001b[0m \u001b[0;31m# Main\u001b[0m\u001b[0;34m\u001b[0m\u001b[0;34m\u001b[0m\u001b[0m\n\u001b[1;32m     33\u001b[0m \u001b[0mlista\u001b[0m\u001b[0;34m=\u001b[0m\u001b[0;34m[\u001b[0m\u001b[0;36m25\u001b[0m\u001b[0;34m,\u001b[0m\u001b[0;36m9\u001b[0m\u001b[0;34m,\u001b[0m\u001b[0;36m8\u001b[0m\u001b[0;34m,\u001b[0m\u001b[0;36m3\u001b[0m\u001b[0;34m,\u001b[0m\u001b[0;36m8\u001b[0m\u001b[0;34m,\u001b[0m\u001b[0;36m9\u001b[0m\u001b[0;34m,\u001b[0m\u001b[0;36m10\u001b[0m\u001b[0;34m,\u001b[0m\u001b[0;36m15\u001b[0m\u001b[0;34m,\u001b[0m\u001b[0;36m80\u001b[0m\u001b[0;34m]\u001b[0m\u001b[0;34m\u001b[0m\u001b[0;34m\u001b[0m\u001b[0m\n\u001b[0;32m---> 34\u001b[0;31m \u001b[0mquickSort\u001b[0m\u001b[0;34m(\u001b[0m\u001b[0mlista\u001b[0m\u001b[0;34m)\u001b[0m\u001b[0;34m\u001b[0m\u001b[0;34m\u001b[0m\u001b[0m\n\u001b[0m\u001b[1;32m     35\u001b[0m \u001b[0mprint\u001b[0m\u001b[0;34m(\u001b[0m\u001b[0mlista\u001b[0m\u001b[0;34m)\u001b[0m\u001b[0;34m\u001b[0m\u001b[0;34m\u001b[0m\u001b[0m\n\u001b[1;32m     36\u001b[0m \u001b[0mprint\u001b[0m\u001b[0;34m(\u001b[0m\u001b[0mesquerda\u001b[0m\u001b[0;34m)\u001b[0m\u001b[0;34m\u001b[0m\u001b[0;34m\u001b[0m\u001b[0m\n",
            "\u001b[0;32m<ipython-input-30-1cf80276307e>\u001b[0m in \u001b[0;36mquickSort\u001b[0;34m(dados)\u001b[0m\n\u001b[1;32m     19\u001b[0m         \u001b[0;31m#   direita[0] = direita[1] # trocando o lugar\u001b[0m\u001b[0;34m\u001b[0m\u001b[0;34m\u001b[0m\u001b[0m\n\u001b[1;32m     20\u001b[0m         \u001b[0;31m#   direita[1] = trocando # Devolve ao novo local o número armazeando na variável temporária\u001b[0m\u001b[0;34m\u001b[0m\u001b[0;34m\u001b[0m\u001b[0m\n\u001b[0;32m---> 21\u001b[0;31m         \u001b[0mtrocando\u001b[0m\u001b[0;34m(\u001b[0m\u001b[0mdireita\u001b[0m\u001b[0;34m)\u001b[0m\u001b[0;34m\u001b[0m\u001b[0;34m\u001b[0m\u001b[0m\n\u001b[0m\u001b[1;32m     22\u001b[0m       \u001b[0;32melse\u001b[0m\u001b[0;34m:\u001b[0m\u001b[0;34m\u001b[0m\u001b[0;34m\u001b[0m\u001b[0m\n\u001b[1;32m     23\u001b[0m         \u001b[0mquickSort\u001b[0m\u001b[0;34m(\u001b[0m\u001b[0mdireita\u001b[0m\u001b[0;34m)\u001b[0m\u001b[0;34m\u001b[0m\u001b[0;34m\u001b[0m\u001b[0m\n",
            "\u001b[0;32m<ipython-input-30-1cf80276307e>\u001b[0m in \u001b[0;36mtrocando\u001b[0;34m(lista)\u001b[0m\n\u001b[1;32m     24\u001b[0m \u001b[0;34m\u001b[0m\u001b[0m\n\u001b[1;32m     25\u001b[0m \u001b[0;32mdef\u001b[0m \u001b[0mtrocando\u001b[0m\u001b[0;34m(\u001b[0m\u001b[0mlista\u001b[0m\u001b[0;34m)\u001b[0m\u001b[0;34m:\u001b[0m\u001b[0;34m\u001b[0m\u001b[0;34m\u001b[0m\u001b[0m\n\u001b[0;32m---> 26\u001b[0;31m   \u001b[0;32mif\u001b[0m \u001b[0mlista\u001b[0m\u001b[0;34m[\u001b[0m\u001b[0;36m0\u001b[0m\u001b[0;34m]\u001b[0m \u001b[0;34m>\u001b[0m \u001b[0mlista\u001b[0m\u001b[0;34m[\u001b[0m\u001b[0;36m1\u001b[0m\u001b[0;34m]\u001b[0m\u001b[0;34m:\u001b[0m\u001b[0;34m\u001b[0m\u001b[0;34m\u001b[0m\u001b[0m\n\u001b[0m\u001b[1;32m     27\u001b[0m       \u001b[0mtrocando\u001b[0m \u001b[0;34m=\u001b[0m \u001b[0mlista\u001b[0m\u001b[0;34m[\u001b[0m\u001b[0;36m0\u001b[0m\u001b[0;34m]\u001b[0m \u001b[0;31m# salva temporariamente o numero que será trocado\u001b[0m\u001b[0;34m\u001b[0m\u001b[0;34m\u001b[0m\u001b[0m\n\u001b[1;32m     28\u001b[0m       \u001b[0mlista\u001b[0m\u001b[0;34m[\u001b[0m\u001b[0;36m0\u001b[0m\u001b[0;34m]\u001b[0m \u001b[0;34m=\u001b[0m \u001b[0mlista\u001b[0m\u001b[0;34m[\u001b[0m\u001b[0;36m1\u001b[0m\u001b[0;34m]\u001b[0m \u001b[0;31m# trocando o lugar\u001b[0m\u001b[0;34m\u001b[0m\u001b[0;34m\u001b[0m\u001b[0m\n",
            "\u001b[0;31mIndexError\u001b[0m: list index out of range"
          ]
        }
      ]
    }
  ]
}